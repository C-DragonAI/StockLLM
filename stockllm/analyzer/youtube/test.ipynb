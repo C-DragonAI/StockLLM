{
 "cells": [
  {
   "cell_type": "code",
   "execution_count": 21,
   "metadata": {},
   "outputs": [],
   "source": [
    "youtube_url = \"https://youtu.be/r_6hshZZ8U0\""
   ]
  },
  {
   "cell_type": "code",
   "execution_count": 31,
   "metadata": {},
   "outputs": [
    {
     "name": "stdout",
     "output_type": "stream",
     "text": [
      "Subtitle downloaded successfully and saved as subtitle.txt\n"
     ]
    }
   ],
   "source": [
    "import os\n",
    "from youtube_transcript_api import YouTubeTranscriptApi\n",
    "from urllib.parse import urlparse, parse_qs\n",
    "\n",
    "def get_video_id(url):\n",
    "    \"\"\"Extract video ID from YouTube URL\"\"\"\n",
    "    query = urlparse(url)\n",
    "    if query.hostname == 'youtu.be':\n",
    "        return query.path[1:]\n",
    "    if query.hostname in ('www.youtube.com', 'youtube.com'):\n",
    "        if query.path == '/watch':\n",
    "            p = parse_qs(query.query)\n",
    "            return p['v'][0]\n",
    "        if query.path[:7] == '/embed/':\n",
    "            return query.path.split('/')[2]\n",
    "        if query.path[:3] == '/v/':\n",
    "            return query.path.split('/')[2]\n",
    "    return None\n",
    "\n",
    "def download_subtitle(video_url, output_file='subtitle.txt'):\n",
    "    \"\"\"Download subtitle from YouTube video\"\"\"\n",
    "    video_id = get_video_id(video_url)\n",
    "    \n",
    "    if not video_id:\n",
    "        print(\"Invalid YouTube URL\")\n",
    "        return\n",
    "    \n",
    "    try:\n",
    "        transcript = YouTubeTranscriptApi.list_transcripts(video_id)\n",
    "        \n",
    "        # Try to fetch zh-TW transcript\n",
    "        zh_tw_transcript = transcript.find_transcript(['zh-TW'])\n",
    "        \n",
    "        with open(output_file, 'w', encoding='utf-8') as file:\n",
    "            for entry in zh_tw_transcript.fetch():\n",
    "                file.write(f\"{entry['text']}\\n\")\n",
    "        \n",
    "        print(f\"Subtitle downloaded successfully and saved as {output_file}\")\n",
    "    \n",
    "    except Exception as e:\n",
    "        print(f\"An error occurred: {str(e)}\")\n",
    "\n",
    "# Example usage\n",
    "# video_url = input(\"Enter the YouTube video URL: \")\n",
    "video_url = youtube_url\n",
    "download_subtitle(video_url)"
   ]
  },
  {
   "cell_type": "code",
   "execution_count": null,
   "metadata": {},
   "outputs": [],
   "source": []
  }
 ],
 "metadata": {
  "kernelspec": {
   "display_name": "stockllm",
   "language": "python",
   "name": "python3"
  },
  "language_info": {
   "codemirror_mode": {
    "name": "ipython",
    "version": 3
   },
   "file_extension": ".py",
   "mimetype": "text/x-python",
   "name": "python",
   "nbconvert_exporter": "python",
   "pygments_lexer": "ipython3",
   "version": "3.9.19"
  }
 },
 "nbformat": 4,
 "nbformat_minor": 2
}
